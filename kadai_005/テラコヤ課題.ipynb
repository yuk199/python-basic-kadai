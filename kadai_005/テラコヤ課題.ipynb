{
  "nbformat": 4,
  "nbformat_minor": 0,
  "metadata": {
    "colab": {
      "provenance": []
    },
    "kernelspec": {
      "name": "python3",
      "display_name": "Python 3"
    },
    "language_info": {
      "name": "python"
    }
  },
  "cells": [
    {
      "cell_type": "code",
      "execution_count": 3,
      "metadata": {
        "colab": {
          "base_uri": "https://localhost:8080/"
        },
        "id": "XRI5Btxp4bZG",
        "outputId": "f2680cdc-ec37-44b4-dbd1-fa25b471b2d2"
      },
      "outputs": [
        {
          "output_type": "stream",
          "name": "stdout",
          "text": [
            "75.0cm²\n"
          ]
        }
      ],
      "source": [
        "# 台形の面積 =（上辺 + 下辺）* 高さ / 2\n",
        "\n",
        "x = (10 + 20) * 5 / 2\n",
        "print(str(x) + \"cm²\")"
      ]
    }
  ]
}